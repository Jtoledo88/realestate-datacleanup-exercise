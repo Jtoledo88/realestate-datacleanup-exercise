{
 "cells": [
  {
   "attachments": {},
   "cell_type": "markdown",
   "id": "innocent-university",
   "metadata": {},
   "source": [
    "# Limpieza de Bienes Raices\n",
    "\n",
    "Este es un conjunto de datos real y se descargó mediante técnicas de web scraping. Los datos contienen registros de fotocasa, que es uno de los sitios web inmobiliarios más populares en España. Por favor, no haga esto (web scraping) a menos que sea con fines académicos.\n",
    "\n",
    "El conjunto de datos fue descargado hace unos años por Henry Navarro y en ningún caso se obtuvieron beneficios económicos del mismo.\n",
    "\n",
    "Contiene miles de datos de casas reales publicados en la web www.fotocasa.com. Tu objetivo es extraer la mayor cantidad de información posible con el conocimiento que tienes hasta ahora sobre ciencia de datos, por ejemplo, ¿cuál es la casa más cara de todo el conjunto de datos?\n",
    "\n",
    "Empecemos precisamente por esa pregunta... ¡Buena suerte!"
   ]
  },
  {
   "attachments": {},
   "cell_type": "markdown",
   "id": "multiple-glass",
   "metadata": {},
   "source": [
    "#### Ejercicio 00. Lea el conjunto de datos assets/real_estate.csv e intente visualizar la tabla (★☆☆)"
   ]
  },
  {
   "cell_type": "code",
   "execution_count": null,
   "id": "frank-heath",
   "metadata": {},
   "outputs": [],
   "source": [
    "import pandas as pd\n",
    "\n",
    "# this CSV file contains semicolons instead of comas as separator"
   ]
  },
  {
   "attachments": {},
   "cell_type": "markdown",
   "id": "latin-guest",
   "metadata": {},
   "source": [
    "#### Ejercicio 01. ¿Cuál es la casa más cara del conjunto de datos? (★☆☆)\n",
    "\n",
    "Imprime la dirección y el precio de la casa seleccionada. Por ejemplo:\n",
    "\n",
    "`La casa con dirección Calle General Nº5 es la más cara y su precio es de 5000000 USD`"
   ]
  },
  {
   "cell_type": "code",
   "execution_count": null,
   "id": "developing-optimum",
   "metadata": {},
   "outputs": [],
   "source": [
    "# TODO"
   ]
  },
  {
   "attachments": {},
   "cell_type": "markdown",
   "id": "lesser-cosmetic",
   "metadata": {},
   "source": [
    "#### Ejercicio 02. ¿Cuál es la casa más barata del conjunto de datos? (★☆☆)\n",
    "\n",
    "Imprime la dirección y el precio de la casa seleccionada. Por ejemplo:\n",
    "\n",
    "`La casa con dirección Calle Hormigón Nº1 es la más barata y su precio es 12000 USD`"
   ]
  },
  {
   "cell_type": "code",
   "execution_count": null,
   "id": "lovely-oasis",
   "metadata": {},
   "outputs": [],
   "source": [
    "# TODO\n"
   ]
  },
  {
   "attachments": {},
   "cell_type": "markdown",
   "id": "compliant-fellowship",
   "metadata": {},
   "source": [
    "#### Ejercicio 03. ¿Cuál es la casa más grande y la más pequeña del conjunto de datos? (★☆☆)\n",
    "\n",
    "Imprime ambas direcciones y el metraje de las casas seleccionadas. Por ejemplo:\n",
    "\n",
    "`La casa más grande está ubicada en la calle Yukka Nº10 y su superficie es de 5000 metros.`\n",
    "\n",
    "`La casa más pequeña está ubicada en County Road 1 N y su superficie es de 200 metros.`"
   ]
  },
  {
   "cell_type": "code",
   "execution_count": null,
   "id": "every-tiffany",
   "metadata": {},
   "outputs": [],
   "source": [
    "# TODO\n"
   ]
  },
  {
   "attachments": {},
   "cell_type": "markdown",
   "id": "danish-spirit",
   "metadata": {},
   "source": [
    "#### Ejercicio 04. ¿Cuántas poblaciones (columna de level5) contiene el conjunto de datos? (★☆☆)\n",
    "\n",
    "Imprime el nombre de las poblaciones con coma como separador. Por ejemplo:\n",
    "\n",
    "`> print(poblaciones)`\n",
    "\n",
    "`población1, población2, población3,...`"
   ]
  },
  {
   "cell_type": "code",
   "execution_count": null,
   "id": "exciting-accreditation",
   "metadata": {},
   "outputs": [],
   "source": [
    "# TODO"
   ]
  },
  {
   "attachments": {},
   "cell_type": "markdown",
   "id": "crazy-blame",
   "metadata": {},
   "source": [
    "#### Ejercicio 05. ¿El conjunto de datos contiene NA? (★☆☆)\n",
    "\n",
    "Imprima un valor booleano (`true` o `fase`) seguido de las filas/columnas que contienen NA."
   ]
  },
  {
   "cell_type": "code",
   "execution_count": null,
   "id": "transparent-poetry",
   "metadata": {},
   "outputs": [],
   "source": [
    "# TODO"
   ]
  },
  {
   "attachments": {},
   "cell_type": "markdown",
   "id": "italic-hydrogen",
   "metadata": {},
   "source": [
    "#### Ejercicio 06. Eliminar las NaN del conjunto de datos, si corresponde (★★☆)\n",
    "\n",
    "Imprima una comparación entre las dimensiones del DataFrame original versus el DataFrame después de las eliminaciones"
   ]
  },
  {
   "cell_type": "code",
   "execution_count": null,
   "id": "administrative-roads",
   "metadata": {},
   "outputs": [],
   "source": [
    "# TODO"
   ]
  },
  {
   "attachments": {},
   "cell_type": "markdown",
   "id": "middle-china",
   "metadata": {},
   "source": [
    "#### Ejercicio 07. ¿Cuál es la media de los precios en la población (columna de level5) de \"Arroyomolinos (Madrid)\"? (★★☆)\n",
    "\n",
    "Imprime el valor obtenido"
   ]
  },
  {
   "cell_type": "code",
   "execution_count": null,
   "id": "nuclear-belief",
   "metadata": {},
   "outputs": [],
   "source": [
    "# TODO"
   ]
  },
  {
   "attachments": {},
   "cell_type": "markdown",
   "id": "concerned-radical",
   "metadata": {},
   "source": [
    "#### Ejercicio 08. Traza el histograma de precios de la población (columna de level5) de \"Arroyomolinos (Madrid)\" y explica lo que observas (★★☆)\n",
    "\n",
    "Imprime el histograma de los precios y escribe en la celda Markdown un breve análisis sobre el gráfico."
   ]
  },
  {
   "cell_type": "code",
   "execution_count": null,
   "id": "sudden-message",
   "metadata": {},
   "outputs": [],
   "source": [
    "# TODO: Code"
   ]
  },
  {
   "attachments": {},
   "cell_type": "markdown",
   "id": "impressed-combination",
   "metadata": {},
   "source": [
    "**TODO: Markdown**. To write here, double click to this cell and just remove this content and place the text you want to write. Then, execute the cell."
   ]
  },
  {
   "attachments": {},
   "cell_type": "markdown",
   "id": "actual-edinburgh",
   "metadata": {},
   "source": [
    "#### Exercise 09. Is the average of \"Valdemorillo\" and \"Galapagar\" prices the same? (★★☆)\n",
    "\n",
    "Print the both average prices and then write a conclusion about them"
   ]
  },
  {
   "cell_type": "code",
   "execution_count": null,
   "id": "numeric-commerce",
   "metadata": {},
   "outputs": [],
   "source": [
    "# TODO\n",
    "city = 'Valdemorillo'\n",
    "data = ds[ds['level5'] == city]\n",
    "mean1 = data.price.mean()\n",
    "print(mean1)\n",
    "\n",
    "city2 = 'Galapagar'\n",
    "data = ds[ds['level5'] == city2]\n",
    "mean2 = data.price.mean()\n",
    "print(mean2)"
   ]
  },
  {
   "attachments": {},
   "cell_type": "markdown",
   "id": "lonely-article",
   "metadata": {},
   "source": [
    "#### Exercise 10. Is the average of \"Valdemorillo\" and \"Galapagar\" price per square meter (price/m2) the same? (★★☆)\n",
    "\n",
    "Print the both average prices and then write a conclusion about\n",
    "\n",
    "Hint: Create a new column called `pps` (price per square) and then analyse the values"
   ]
  },
  {
   "cell_type": "code",
   "execution_count": null,
   "id": "hourly-globe",
   "metadata": {},
   "outputs": [],
   "source": [
    "# TODO\n",
    "\n",
    "city = 'Valdemorillo'\n",
    "ds['pps'] = ds['price'] / ds['surface']\n",
    "data = ds[ds['level5'] == city]\n",
    "print(data.pps.mean())\n",
    "\n",
    "city = 'Galapagar'\n",
    "ds['pps'] = ds['price'] / ds['surface']\n",
    "data2 = ds[ds['level5'] == city]\n",
    "print(data2.pps.mean())\n"
   ]
  },
  {
   "attachments": {},
   "cell_type": "markdown",
   "id": "pleasant-invite",
   "metadata": {},
   "source": [
    "#### Exercise 11. Analyse the relation between the surface and the price of the houses (★★☆)\n",
    "\n",
    "Hint: You can make a `scatter plot` and then write a conclusion about it"
   ]
  },
  {
   "cell_type": "code",
   "execution_count": null,
   "id": "common-drilling",
   "metadata": {},
   "outputs": [],
   "source": [
    "# TODO: Code"
   ]
  },
  {
   "attachments": {},
   "cell_type": "markdown",
   "id": "ahead-liquid",
   "metadata": {},
   "source": [
    "**TODO: Markdown**. To write here, double click to this cell and just remove this content and place the text you want to write. Then, execute the cell."
   ]
  },
  {
   "attachments": {},
   "cell_type": "markdown",
   "id": "coordinate-sunrise",
   "metadata": {},
   "source": [
    "#### Exercise 12. How many real estate agencies the dataset contains? (★★☆)\n",
    "\n",
    "Print the obtained value"
   ]
  },
  {
   "cell_type": "code",
   "execution_count": null,
   "id": "valid-honolulu",
   "metadata": {},
   "outputs": [],
   "source": [
    "# TODO"
   ]
  },
  {
   "attachments": {},
   "cell_type": "markdown",
   "id": "binding-ebony",
   "metadata": {},
   "source": [
    "#### Exercise 13. Which is the population (level5 column) that contains the most houses? (★★☆)\n",
    "\n",
    "Print both the population and the number of houses"
   ]
  },
  {
   "cell_type": "code",
   "execution_count": null,
   "id": "static-perry",
   "metadata": {},
   "outputs": [],
   "source": [
    "# TODO"
   ]
  },
  {
   "attachments": {},
   "cell_type": "markdown",
   "id": "entire-classification",
   "metadata": {},
   "source": [
    "#### Exercise 14. Now let's work with the \"south belt\" of madrid. Make a subset of the original DataFrame that contains the following populations (level5 column): \"Fuenlabrada\",\"Leganés\",\"Getafe\",\"Alcorcón\" (★★☆)\n",
    "\n",
    "Hint: Filter the original DataFrame using the column `level5` and the function `isin`"
   ]
  },
  {
   "cell_type": "code",
   "execution_count": null,
   "id": "binary-input",
   "metadata": {},
   "outputs": [],
   "source": [
    "# TODO"
   ]
  },
  {
   "attachments": {},
   "cell_type": "markdown",
   "id": "severe-fisher",
   "metadata": {},
   "source": [
    "#### Exercise 15. Make a bar plot of the median of the prices and explain what you observe (you must use the subset obtained in the question 14) (★★★)\n",
    "\n",
    "Print the bar of the median of the prices and write in the Markdown cell a brief analysis about the plot"
   ]
  },
  {
   "cell_type": "code",
   "execution_count": null,
   "id": "lyric-bunch",
   "metadata": {},
   "outputs": [],
   "source": [
    "# TODO: Code"
   ]
  },
  {
   "attachments": {},
   "cell_type": "markdown",
   "id": "sublime-newspaper",
   "metadata": {},
   "source": [
    "**TODO: Markdown**. To write here, double click to this cell and just remove this content and place the text you want to write. Then, execute the cell."
   ]
  },
  {
   "attachments": {},
   "cell_type": "markdown",
   "id": "speaking-diamond",
   "metadata": {},
   "source": [
    "#### Exercise 16. Calculate the sample mean and variance of the variables: price, rooms, surface area and bathrooms (you must use the subset obtained in the question 14) (★★★)\n",
    "\n",
    "Print both values for each variable"
   ]
  },
  {
   "cell_type": "code",
   "execution_count": null,
   "id": "random-feeling",
   "metadata": {},
   "outputs": [],
   "source": [
    "# TODO"
   ]
  },
  {
   "attachments": {},
   "cell_type": "markdown",
   "id": "revolutionary-matrix",
   "metadata": {},
   "source": [
    "#### Exercise 17. What is the most expensive house of each population? You must use the subset obtained in the question 14 (★★☆)\n",
    "\n",
    "Print both the address and the price of the selected house of each population. You can print a DataFrame or a single line for each population"
   ]
  },
  {
   "cell_type": "code",
   "execution_count": null,
   "id": "fifteen-browse",
   "metadata": {},
   "outputs": [],
   "source": [
    "# TODO"
   ]
  },
  {
   "attachments": {},
   "cell_type": "markdown",
   "id": "activated-knight",
   "metadata": {},
   "source": [
    "#### Exercise 18. Normalize the variable of prices for each population and plot the 4 histograms in the same plot (you must use the subset obtained in the question 14) (★★★)\n",
    "\n",
    "For the normalization method you can use the one you consider to, there is not a single correct answer to this question. Print the plot and write in the Markdown cell a brief analysis about the plot\n",
    "\n",
    "Hint: You can help yourself reviewing the multihist demo of Matplotlib"
   ]
  },
  {
   "cell_type": "code",
   "execution_count": null,
   "id": "civic-meditation",
   "metadata": {},
   "outputs": [],
   "source": [
    "# TODO"
   ]
  },
  {
   "attachments": {},
   "cell_type": "markdown",
   "id": "precise-heavy",
   "metadata": {},
   "source": [
    "**TODO: Markdown**. To write here, double click to this cell and just remove this content and place the text you want to write. Then, execute the cell."
   ]
  },
  {
   "attachments": {},
   "cell_type": "markdown",
   "id": "patent-jonathan",
   "metadata": {},
   "source": [
    "#### Exercise 19. What can you say about the price per square meter (price/m2) between the towns of \"Getafe\" and \"Alcorcón\"? You must use the subset obtained in the question 14 (★★☆)\n",
    "\n",
    "Hint: Create a new column called `pps` (price per square) and then analyse the values"
   ]
  },
  {
   "cell_type": "code",
   "execution_count": null,
   "id": "initial-liverpool",
   "metadata": {},
   "outputs": [],
   "source": [
    "# TODO"
   ]
  },
  {
   "attachments": {},
   "cell_type": "markdown",
   "id": "enhanced-moscow",
   "metadata": {},
   "source": [
    "#### Exercise 20. Make the same plot for 4 different populations (level5 column) and rearrange them on the same graph? You must use the subset obtained in the question 14 (★★☆) \n",
    "Hint: make a scatter plot of each population using subplots."
   ]
  },
  {
   "cell_type": "code",
   "execution_count": null,
   "id": "accepting-airfare",
   "metadata": {},
   "outputs": [],
   "source": [
    "# TODO"
   ]
  },
  {
   "attachments": {},
   "cell_type": "markdown",
   "id": "blocked-effects",
   "metadata": {},
   "source": [
    "#### Exercise 21. Make a plot of the coordinates (latitude and longitude columns) of the south belt of Madrid by color of each population (you must use the subset obtained in the question 14) (★★★★)\n",
    "\n",
    "Execute the following cell and then start coding in the next one. You must implement a simple code that transform the coordinates columns in a Python dictionary (add more information if needed) and then add it to the map"
   ]
  },
  {
   "cell_type": "code",
   "execution_count": null,
   "id": "headed-privacy",
   "metadata": {},
   "outputs": [],
   "source": [
    "from ipyleaflet import Map, basemaps\n",
    "\n",
    "# Map centred on (60 degrees latitude et -2.2 degrees longitude)\n",
    "# Latitude, longitude\n",
    "map = Map(center = (60, -2.2), zoom = 2, min_zoom = 1, max_zoom = 20, \n",
    "    basemap=basemaps.Stamen.Terrain)\n",
    "map"
   ]
  },
  {
   "cell_type": "code",
   "execution_count": null,
   "id": "present-mistress",
   "metadata": {},
   "outputs": [],
   "source": [
    "## HERE: plot the coordinates of the estates\n",
    "\n",
    "## PUT HERE YOUR CODE:\n"
   ]
  }
 ],
 "metadata": {
  "kernelspec": {
   "display_name": "Python 3",
   "language": "python",
   "name": "python3"
  },
  "language_info": {
   "codemirror_mode": {
    "name": "ipython",
    "version": 3
   },
   "file_extension": ".py",
   "mimetype": "text/x-python",
   "name": "python",
   "nbconvert_exporter": "python",
   "pygments_lexer": "ipython3",
   "version": "3.12.1"
  }
 },
 "nbformat": 4,
 "nbformat_minor": 5
}
